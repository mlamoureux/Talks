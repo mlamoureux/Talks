{
 "cells": [
  {
   "cell_type": "markdown",
   "metadata": {},
   "source": [
    "# GMMIW - 2016\n",
    "# Jupyter Workshop"
   ]
  },
  {
   "cell_type": "markdown",
   "metadata": {},
   "source": [
    "This is the outline page to point to the various parts of the workshop pages.\n"
   ]
  },
  {
   "cell_type": "markdown",
   "metadata": {},
   "source": [
    "Outine:\n",
    "\n",
    "- Jupyter overview (from CMS meeting) https://github.com/mlamoureux/Talks/Jupyter_Workshop.ipynb\n",
    "\n",
    "Python demos:\n",
    "- ODE solver https://github.com/mlamouruex/Talks/ODEtests.ipynb\n",
    "- PDE solver https://github.com/mlamouruex/Talks/WaveSolver.ipynb\n",
    "- Fancy plotting (Bokeh) https://github.com/mlamouruex/Talks/bokeh-plotting-with-parameters.ipynb\n",
     "\n",
    "Julia demos:\n",
    "- Spectral calculations https://github.com/mlamouruex/Talks/MathieuSpectra.ipynb\n",
    "- Plotting https://github.com/mlamouruex/Talks/PlottingInJulia.ipynb\n",
    "- Picard's method https://github.com/mlamouruex/Talks/FixedPointExample.ipynb\n",
    "- Calling C and Python in Julia https://github.com/mlamouruex/Talks/CallingCandPython.ipynb\n",
    "- Julia Box  https://juliabox.org/\n",
    "\n",
    "Javascript:\n",
    "- tracking the mouse https://github.com/mlamouruex/Talks/Exp3_mousetracking_works.ipynb\n",
    "- drawing on screen https://github.com/mlamouruex/Talks/Together_test.ipynb\n",
    "\n",
    "GIT:\n",
    "- a condensed guide to using GIT http://rogerdudler.github.io/git-guide/\n",
    "\n",
    "R:\n",
    "- https:https://github.com/mlamouruex/Talks/R_example.ipynb\n"
   ]
  },
  {
   "cell_type": "code",
   "execution_count": null,
   "metadata": {
    "collapsed": true
   },
   "outputs": [],
   "source": []
  }
 ],
 "metadata": {
  "kernelspec": {
   "display_name": "Python 3",
   "language": "python",
   "name": "python3"
  },
  "language_info": {
   "codemirror_mode": {
    "name": "ipython",
    "version": 3
   },
   "file_extension": ".py",
   "mimetype": "text/x-python",
   "name": "python",
   "nbconvert_exporter": "python",
   "pygments_lexer": "ipython3",
   "version": "3.5.1"
  }
 },
 "nbformat": 4,
 "nbformat_minor": 0
}
