{
 "cells": [
  {
   "cell_type": "markdown",
   "metadata": {},
   "source": [
    "# GMMIW - 2016\n",
    "# Jupyter Workshop"
   ]
  },
  {
   "cell_type": "markdown",
   "metadata": {},
   "source": [
    "This is the outline page to point to the various parts of the workshop pages.\n"
   ]
  },
  {
   "cell_type": "markdown",
   "metadata": {},
   "source": [
    "Outine:\n",
    "\n",
    "- Jupyter overview (from CMS meeting) https://pims.jupyter.ca/user/mplamour/notebooks/cms-demo/Jupyter_Workshop.ipynb\n",
    "\n",
    "Python demos:\n",
    "- ODE solver https://pims.jupyter.ca/user/mplamour/notebooks/cms-demo/ODEtests.ipynb\n",
    "- PDE solver https://pims.jupyter.ca/user/mplamour/notebooks/cms-demo/WaveSolver.ipynb\n",
    "- Fancy plotting (Bokeh) https://pims.jupyter.ca/user/mplamour/notebooks/cms-demo/bokeh-plotting-with-parameters.ipynb\n",
    "- Financial Math https://pims.jupyter.ca/user/mplamour/notebooks/Math651/Python_code/Stochastic%20Process%20Algorithms.ipynb\n",
    "\n",
    "Julia demos:\n",
    "- Spectral calculations https://pims.jupyter.ca/user/mplamour/notebooks/Python/MathieuSpectra.ipynb\n",
    "- Plotting https://pims.jupyter.ca/user/mplamour/notebooks/Julia/PlottingInJulia.ipynb\n",
    "- Picard's method https://pims.jupyter.ca/user/mplamour/notebooks/Math651/Julia_code/FixedPointExample.ipynb\n",
    "- Calling C and Python in Julia https://pims.jupyter.ca/user/mplamour/notebooks/Julia/CallingCandPython.ipynb\n",
    "- Julia Box  https://juliabox.org/\n",
    "\n",
    "Javascript:\n",
    "- tracking the mouse https://pims.jupyter.ca/user/mplamour/notebooks/GUI_experiments/Exp3_mousetracking_works.ipynb\n",
    "- drawing on screen https://pims.jupyter.ca/user/mplamour/notebooks/GUI_experiments/Together_test.ipynb\n",
    "\n",
    "GIT:\n",
    "- a condensed guide to using GIT http://rogerdudler.github.io/git-guide/\n",
    "\n",
    "R:\n",
    "- https://pims.jupyter.ca/user/mplamour/notebooks/R_example.ipynb\n"
   ]
  },
  {
   "cell_type": "code",
   "execution_count": null,
   "metadata": {
    "collapsed": true
   },
   "outputs": [],
   "source": []
  }
 ],
 "metadata": {
  "kernelspec": {
   "display_name": "Python 3",
   "language": "python",
   "name": "python3"
  },
  "language_info": {
   "codemirror_mode": {
    "name": "ipython",
    "version": 3
   },
   "file_extension": ".py",
   "mimetype": "text/x-python",
   "name": "python",
   "nbconvert_exporter": "python",
   "pygments_lexer": "ipython3",
   "version": "3.5.1"
  }
 },
 "nbformat": 4,
 "nbformat_minor": 0
}
