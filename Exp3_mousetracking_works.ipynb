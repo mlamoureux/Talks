{
 "cells": [
  {
   "cell_type": "markdown",
   "metadata": {},
   "source": [
    "<canvas id=\"sketch1\" height=\"500\" width=\"780\" style=\"border: 1px solid #000000\"> \n",
    "</canvas>\n"
   ]
  },
  {
   "cell_type": "code",
   "execution_count": 1,
   "metadata": {
    "collapsed": false
   },
   "outputs": [
    {
     "data": {
      "application/javascript": [
       "var canvas = document.getElementById('sketch1');\n",
       "var cx = canvas.getContext('2d');\n",
       "canvas.addEventListener('mousemove', function (event) {\n",
       "\t\t    //var y = event.clientY - this.offsetTop -this.offsetParent.offsetTop;\n",
       "\t\t    var y = event.clientY - this.getBoundingClientRect().top;\n",
       "\t\t    //var x = event.clientX - this.offsetLeft;\n",
       "\t\t    var x = event.clientX - this.getBoundingClientRect().left;\n",
       "\t\t    cx.lineWidth = 3;\n",
       "\t\t    cx.strokeStyle = \"black\";\n",
       "\t\t    cx.moveTo(x, y);\n",
       "\t\t    cx.lineTo(x+3, y+3);\n",
       "\t\t    cx.stroke();\n",
       "}, false);"
      ],
      "text/plain": [
       "<IPython.core.display.Javascript object>"
      ]
     },
     "metadata": {},
     "output_type": "display_data"
    }
   ],
   "source": [
    "%%javascript\n",
    "var canvas = document.getElementById('sketch1');\n",
    "var cx = canvas.getContext('2d');\n",
    "canvas.addEventListener('mousemove', function (event) {\n",
    "\t\t    //var y = event.clientY - this.offsetTop -this.offsetParent.offsetTop;\n",
    "\t\t    var y = event.clientY - this.getBoundingClientRect().top;\n",
    "\t\t    //var x = event.clientX - this.offsetLeft;\n",
    "\t\t    var x = event.clientX - this.getBoundingClientRect().left;\n",
    "\t\t    cx.lineWidth = 3;\n",
    "\t\t    cx.strokeStyle = \"black\";\n",
    "\t\t    cx.moveTo(x, y);\n",
    "\t\t    cx.lineTo(x+3, y+3);\n",
    "\t\t    cx.stroke();\n",
    "}, false);\n"
   ]
  },
  {
   "cell_type": "markdown",
   "metadata": {},
   "source": [
    "Okay, this is a minimal working example. Yay!\n",
    "\n",
    "First cell opens an html canvas that we can use to draw on.\n",
    "\n",
    "Second cell uses %%javascript magic to attach a \"mouse listener\" to the canvas, so that as the mouse moves, we draw on the canvas.\n",
    "\n",
    "It has all kinds of trouble -- for instance, the first cell will not work until you run the second cell. Also, if you re-run the first cell, then it forgets about the javascript code. So you have to re-run the second cell, to get the drawing to work again in the first cell. Moreover, the mouse position does not line up with the drawing position. And it draws whenever the mouse moves over the cell (that is, mouse clicking does not matter).\n",
    "\n",
    "But what the hell, it is interactive!\n",
    "\n",
    "What have we learned here?\n",
    "- %%javascript somehow bypasses the html sanitizer\n",
    "- because we bypass the sanitizer, we can attache a mouse listener to the canvas\n",
    "- these object-oriented objects like a canvas can have a lot of attributes that we can use, like the ability to attach code that works as a listener. But, where can we read about this?\n",
    "\n",
    "Michael Lamoureux May 1, 2016."
   ]
  },
  {
   "cell_type": "markdown",
   "metadata": {},
   "source": [
    "A good source for info about the WEB API is here:\n",
    "https://developer.mozilla.org/en-US/docs/Web/API/MouseEvent/offsetY\n"
   ]
  },
  {
   "cell_type": "markdown",
   "metadata": {},
   "source": [
    "Some fixes:\n",
    "- this.offsetParent refers to the element that contains our canvas. So the reference to this.offsetParent.offsetTop fixes the offset to account for both the offset in our canvas, as well as the offset in the cell containing our canvas\n",
    "- when I scroll in x or y direction, things go funky. So maybe there is a correction avaiable for the amount of scrolling that has occured."
   ]
  },
  {
   "cell_type": "markdown",
   "metadata": {
    "collapsed": true
   },
   "source": [
    "## FIXED!!!\n",
    "\n",
    "So, the trick is to measure relative to the Bounding Client Rectange. Note sure what this means, but it works. \n",
    "\n",
    "Instead of this code:\n",
    "- var y = event.clientY - this.offsetTop -this.offsetParent.offsetTop;\n",
    "- var x = event.clientX - this.offsetLeft;\n",
    "we need to use this instead:\n",
    "- var y = event.clientY - this.getBoundingClientRect().top;\n",
    "- var x = event.clientX - this.getBoundingClientRect().left;\n",
    "\n",
    "I found the reference on how to do this at this page: http://stackoverflow.com/questions/6460116/detecting-offset-of-an-element-on-scroll-in-javascript-jquery"
   ]
  },
  {
   "cell_type": "code",
   "execution_count": null,
   "metadata": {
    "collapsed": true
   },
   "outputs": [],
   "source": []
  }
 ],
 "metadata": {
  "kernelspec": {
   "display_name": "Python 3",
   "language": "python",
   "name": "python3"
  },
  "language_info": {
   "codemirror_mode": {
    "name": "ipython",
    "version": 3
   },
   "file_extension": ".py",
   "mimetype": "text/x-python",
   "name": "python",
   "nbconvert_exporter": "python",
   "pygments_lexer": "ipython3",
   "version": "3.5.1"
  }
 },
 "nbformat": 4,
 "nbformat_minor": 0
}
