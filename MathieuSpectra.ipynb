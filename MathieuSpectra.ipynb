{
 "cells": [
  {
   "cell_type": "markdown",
   "metadata": {},
   "source": [
    "# Mathieu Spectra\n",
    "June 19, 2016. M. Lamoureux\n",
    "\n",
    "We redo the construction of the spectra for the almost Mathieu operator. Also known as the Hofsteader Butterfly. \n",
    "\n",
    "I've done this before in MATLAB, taking a lot of care to make it fast. Here in Julia, it seems to be fast even through I'm doing none of those special tricks. In particular, I leave the matrices U,V, in their natural form, just to see how things go. \n",
    "\n",
    "This code creates a file mathieu.svg which can be opened directly in Jupyter Hub using the browser. In fact, the image opened separately looks better than the display here. \n",
    "\n",
    "\n"
   ]
  },
  {
   "cell_type": "markdown",
   "metadata": {
    "collapsed": false
   },
   "source": [
    "## The Math\n",
    "\n",
    "The almost Mathieu operator describes the energy levels of an electron moving in a periodic crystal (2D), under the influence of a magnetic fields. This causes only certain energy levels to be allow, depending on a parameter\n",
    "$$\\mu = e^{2\\pi i \\theta}.$$\n",
    "We take two universal unitaries $u,v$ which satisfy a commutation relation\n",
    "$$ vu = \\mu uv.$$\n",
    "The related energy operator (almost Mathieu operator) is the linear, self adjoint operator\n",
    "$$h = u + u^* + v + v^*.$$\n",
    "\n",
    "The curious thing is that the spectrum of $h$ is either a union of intervals, or a Cantor set, depending on whether $\\theta$ is rational or irrational. Which seems odd in physics, that a tiny perturbation in one parameter should give such a fundamental change in the nature of the spectra. \n",
    "\n",
    "In the case where $\\theta = p/q$ is rational, we can compute the spectrem exactly.\n",
    "\n",
    "We define here two unitaries $U$ and $V$ that are $q\\times q$ matrices. $U$ is a diagonal matrix, which $V$ is a permutation matrix. They satisfy the fundamental intertwining identity\n",
    "$$ VU = e^{2\\pi i \\theta} UV, \\mbox{ where } \\theta = p/q.$$\n",
    "\n",
    "Replacing $U,V$ by a scalar multiple $z_1U, z_2V$ will satisfy the same commutation constraint. Setting $z_1 = z_2 = 1$ gives one extreme set of spectral points, that form one-half of the interval endpoints that make up the spectrum. Setting $z_1 = z_2 = e^{2\\pi i/q}$ gives the other extreme set, forming the other set of endpoints. \n",
    "\n",
    "## The code\n",
    "\n",
    "The matrix $H$ defined below is the self adjoint sum of these unitaries, and $L$ has constants thrown in to get the other extreme points of the spectra. \n",
    "\n",
    "We compute the eigenvalues, then throw them into a file that plots all the lines. "
   ]
  },
  {
   "cell_type": "code",
   "execution_count": 1,
   "metadata": {
    "collapsed": false
   },
   "outputs": [
    {
     "data": {
      "text/plain": [
       "eigL (generic function with 1 method)"
      ]
     },
     "execution_count": 1,
     "metadata": {},
     "output_type": "execute_result"
    }
   ],
   "source": [
    "U(p,q) = diagm(exp(2*pi*1im*(1:q)*p/q))\n",
    "V(p,q) = circshift(eye(q),(0,1))\n",
    "H(p,q) = U(p,q)+U(p,q)' + V(p,q)+V(p,q)'\n",
    "L(p,q) = exp(pi*1im/q)*U(p,q)+exp(-pi*1im/q)U(p,q)' + exp(pi*1im/q)*V(p,q)+exp(-pi*1im/q)*V(p,q)'\n",
    "eigH(p,q) = eig(H(p,q))[1]\n",
    "eigL(p,q) = eig(L(p,q))[1]"
   ]
  },
  {
   "cell_type": "code",
   "execution_count": 2,
   "metadata": {
    "collapsed": false
   },
   "outputs": [
    {
     "data": {
      "text/plain": [
       "printaline (generic function with 1 method)"
      ]
     },
     "execution_count": 2,
     "metadata": {},
     "output_type": "execute_result"
    }
   ],
   "source": [
    "function printaline(f,xone,xtwo,y)\n",
    "    print(f,\"<line x1='\", xone ,\"' y1='\", 8*y, \"' x2='\", xtwo, \"' y2='\", 8*y, \"' stroke='black' stroke-width='.01' /> \\n\")\n",
    "end"
   ]
  },
  {
   "cell_type": "code",
   "execution_count": 3,
   "metadata": {
    "collapsed": false
   },
   "outputs": [],
   "source": [
    "f = open(\"mathieu.svg\",\"w\")\n",
    "print(f,\"<svg xmlns='http://www.w3.org/2000/svg' version='1.1' width='100%' height='100%' viewBox='-4  0 8 8'> \\n\")\n",
    "printaline(f,-4,4,0)\n",
    "printaline(f,-4,4,1)\n",
    "for q=2:50\n",
    "    for p= 1:(q-1)\n",
    "        if gcd(p,q)==1\n",
    "            eig1 = eigH(p,q)\n",
    "            eig2 = eigL(p,q)\n",
    "            for k=1:q\n",
    "                printaline(f,eig1[k],eig2[k],p/q)\n",
    "            end\n",
    "        end\n",
    "    end\n",
    "end\n",
    "# let's put in an extra line at the bottom, so we can see everything\n",
    "#printaline(f,-4,4,2)\n",
    "print(f,\"</svg> \\n\")\n",
    "close(f)"
   ]
  },
  {
   "cell_type": "markdown",
   "metadata": {
    "collapsed": false
   },
   "source": [
    "![The Butterfly of spectra](mathieu.svg)"
   ]
  },
  {
   "cell_type": "markdown",
   "metadata": {},
   "source": [
    "<img src=\"mathieu.svg\" width=\"500\" height=\"500\">"
   ]
  },
  {
   "cell_type": "markdown",
   "metadata": {
    "collapsed": true
   },
   "source": [
    "<img src=\"mathieu.svg\" alt=\"Drawing\" style=\"width: 400px;\"/>"
   ]
  },
  {
   "cell_type": "code",
   "execution_count": 3,
   "metadata": {
    "collapsed": false
   },
   "outputs": [
    {
     "ename": "LoadError",
     "evalue": "LoadError: syntax: extra token \"IPython\" after end of expression\nwhile loading In[3], in expression starting on line 1",
     "output_type": "error",
     "traceback": [
      "LoadError: syntax: extra token \"IPython\" after end of expression\nwhile loading In[3], in expression starting on line 1",
      ""
     ]
    }
   ],
   "source": [
    "from IPython.display import Image"
   ]
  },
  {
   "cell_type": "code",
   "execution_count": 2,
   "metadata": {
    "collapsed": false
   },
   "outputs": [
    {
     "ename": "LoadError",
     "evalue": "LoadError: UndefVarError: Image not defined\nwhile loading In[2], in expression starting on line 1",
     "output_type": "error",
     "traceback": [
      "LoadError: UndefVarError: Image not defined\nwhile loading In[2], in expression starting on line 1",
      ""
     ]
    }
   ],
   "source": [
    "img = Image(filename=\"mathieu.svg\")"
   ]
  },
  {
   "cell_type": "code",
   "execution_count": 5,
   "metadata": {
    "collapsed": false
   },
   "outputs": [
    {
     "data": {
      "text/html": [
       "<img src=\"http://upload.wikimedia.org/wikipedia/commons/thumb/3/3d/Polar_Bear_AdF.jpg/320px-Polar_Bear_AdF.jpg\">"
      ]
     },
     "metadata": {},
     "output_type": "display_data"
    }
   ],
   "source": [
    "display(\"text/html\", \n",
    "\"<img src=\\\"http://upload.wikimedia.org/wikipedia/commons/thumb/3/3d/Polar_Bear_AdF.jpg/320px-Polar_Bear_AdF.jpg\\\">\")\n"
   ]
  },
  {
   "cell_type": "code",
   "execution_count": 11,
   "metadata": {
    "collapsed": false
   },
   "outputs": [
    {
     "data": {
      "text/html": [
       "<img src=\"mathieu.svg\">"
      ]
     },
     "metadata": {},
     "output_type": "display_data"
    }
   ],
   "source": [
    "display(\"text/html\",\"<img src=\\\"mathieu.svg\\\">\")"
   ]
  },
  {
   "cell_type": "code",
   "execution_count": 12,
   "metadata": {
    "collapsed": false
   },
   "outputs": [
    {
     "name": "stderr",
     "output_type": "stream",
     "text": [
      "INFO: Recompiling stale cache file /usr/local/share/julia/site/lib/v0.4/PyCall.ji for module PyCall.\n",
      "INFO: Recompiling stale cache file /usr/local/share/julia/site/lib/v0.4/Conda.ji for module Conda.\n",
      "INFO: Recompiling stale cache file /usr/local/share/julia/site/lib/v0.4/BinDeps.ji for module BinDeps.\n",
      "INFO: Recompiling stale cache file /usr/local/share/julia/site/lib/v0.4/URIParser.ji for module URIParser.\n",
      "INFO: Recompiling stale cache file /usr/local/share/julia/site/lib/v0.4/SHA.ji for module SHA.\n",
      "WARNING: Module Compat uuid did not match cache file\n",
      "  This is likely because module Compat does not support  precompilation but is imported by a module that does.\n",
      "WARNING: deserialization checks failed while attempting to load cache from /usr/local/share/julia/site/lib/v0.4/SHA.ji\n",
      "WARNING: Module Compat uuid did not match cache file\n",
      "  This is likely because module Compat does not support  precompilation but is imported by a module that does.\n",
      "WARNING: deserialization checks failed while attempting to load cache from /usr/local/share/julia/site/lib/v0.4/BinDeps.ji\n",
      "INFO: Recompiling stale cache file /home/mplamour/.julia/lib/v0.4/BinDeps.ji for module BinDeps.\n",
      "WARNING: Module JSON uuid did not match cache file\n",
      "  This is likely because module JSON does not support  precompilation but is imported by a module that does.\n",
      "WARNING: deserialization checks failed while attempting to load cache from /usr/local/share/julia/site/lib/v0.4/Conda.ji\n",
      "INFO: Recompiling stale cache file /usr/local/share/julia/site/lib/v0.4/MacroTools.ji for module MacroTools.\n",
      "WARNING: Module URIParser uuid did not match cache file\n",
      "  This is likely because module URIParser does not support  precompilation but is imported by a module that does.\n",
      "WARNING: deserialization checks failed while attempting to load cache from /usr/local/share/julia/site/lib/v0.4/PyCall.ji\n",
      "INFO: Recompiling stale cache file /home/mplamour/.julia/lib/v0.4/PyCall.ji for module PyCall.\n",
      "WARNING: Module JSON uuid did not match cache file\n",
      "  This is likely because module JSON does not support  precompilation but is imported by a module that does.\n",
      "WARNING: deserialization checks failed while attempting to load cache from /home/mplamour/.julia/lib/v0.4/PyCall.ji\n",
      "INFO: Precompiling module PyCall...\n",
      "INFO: Recompiling stale cache file /home/mplamour/.julia/lib/v0.4/PyCall.ji for module PyCall.\n",
      "WARNING: Module JSON uuid did not match cache file\n",
      "  This is likely because module JSON does not support  precompilation but is imported by a module that does.\n"
     ]
    },
    {
     "ename": "LoadError",
     "evalue": "LoadError: __precompile__(true) but require failed to create a precompiled cache file\nwhile loading In[12], in expression starting on line 1",
     "output_type": "error",
     "traceback": [
      "LoadError: __precompile__(true) but require failed to create a precompiled cache file\nwhile loading In[12], in expression starting on line 1",
      "",
      " in require at ./loading.jl:268"
     ]
    }
   ],
   "source": [
    "using PyCall"
   ]
  },
  {
   "cell_type": "code",
   "execution_count": 13,
   "metadata": {
    "collapsed": false
   },
   "outputs": [
    {
     "ename": "LoadError",
     "evalue": "LoadError: UndefVarError: @pyimport not defined\nwhile loading In[13], in expression starting on line 1",
     "output_type": "error",
     "traceback": [
      "LoadError: UndefVarError: @pyimport not defined\nwhile loading In[13], in expression starting on line 1",
      ""
     ]
    }
   ],
   "source": [
    "@pyimport IPython.display as d"
   ]
  },
  {
   "cell_type": "code",
   "execution_count": null,
   "metadata": {
    "collapsed": true
   },
   "outputs": [],
   "source": []
  }
 ],
 "metadata": {
  "kernelspec": {
   "display_name": "Julia 0.4",
   "language": "julia",
   "name": "julia"
  },
  "language_info": {
   "file_extension": ".jl",
   "mimetype": "application/julia",
   "name": "julia",
   "version": "0.4.5"
  }
 },
 "nbformat": 4,
 "nbformat_minor": 0
}
